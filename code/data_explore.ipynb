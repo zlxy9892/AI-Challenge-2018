{
 "cells": [
  {
   "cell_type": "code",
   "execution_count": 1,
   "metadata": {},
   "outputs": [],
   "source": [
    "import numpy as np\n",
    "import pandas as pd\n",
    "import matplotlib.pyplot as plt\n",
    "from sklearn import preprocessing, ensemble, linear_model, metrics\n",
    "import xgboost as xgb"
   ]
  },
  {
   "cell_type": "code",
   "execution_count": 2,
   "metadata": {},
   "outputs": [],
   "source": [
    "df_train = pd.read_csv('./data/sentiment_analysis_trainingset.csv')"
   ]
  },
  {
   "cell_type": "code",
   "execution_count": 3,
   "metadata": {},
   "outputs": [],
   "source": [
    "df_valid = pd.read_csv('./data/sentiment_analysis_validationset.csv')"
   ]
  },
  {
   "cell_type": "code",
   "execution_count": 4,
   "metadata": {},
   "outputs": [],
   "source": [
    "df_testa = pd.read_csv('./data/sentiment_analysis_testa.csv')"
   ]
  },
  {
   "cell_type": "code",
   "execution_count": 4,
   "metadata": {},
   "outputs": [
    {
     "data": {
      "text/html": [
       "<div>\n",
       "<style scoped>\n",
       "    .dataframe tbody tr th:only-of-type {\n",
       "        vertical-align: middle;\n",
       "    }\n",
       "\n",
       "    .dataframe tbody tr th {\n",
       "        vertical-align: top;\n",
       "    }\n",
       "\n",
       "    .dataframe thead th {\n",
       "        text-align: right;\n",
       "    }\n",
       "</style>\n",
       "<table border=\"1\" class=\"dataframe\">\n",
       "  <thead>\n",
       "    <tr style=\"text-align: right;\">\n",
       "      <th></th>\n",
       "      <th>id</th>\n",
       "      <th>content</th>\n",
       "      <th>location_traffic_convenience</th>\n",
       "      <th>location_distance_from_business_district</th>\n",
       "      <th>location_easy_to_find</th>\n",
       "      <th>service_wait_time</th>\n",
       "      <th>service_waiters_attitude</th>\n",
       "      <th>service_parking_convenience</th>\n",
       "      <th>service_serving_speed</th>\n",
       "      <th>price_level</th>\n",
       "      <th>...</th>\n",
       "      <th>environment_decoration</th>\n",
       "      <th>environment_noise</th>\n",
       "      <th>environment_space</th>\n",
       "      <th>environment_cleaness</th>\n",
       "      <th>dish_portion</th>\n",
       "      <th>dish_taste</th>\n",
       "      <th>dish_look</th>\n",
       "      <th>dish_recommendation</th>\n",
       "      <th>others_overall_experience</th>\n",
       "      <th>others_willing_to_consume_again</th>\n",
       "    </tr>\n",
       "  </thead>\n",
       "  <tbody>\n",
       "    <tr>\n",
       "      <th>0</th>\n",
       "      <td>0</td>\n",
       "      <td>\"吼吼吼，萌死人的棒棒糖，中了大众点评的霸王餐，太可爱了。一直就好奇这个棒棒糖是怎么个东西，...</td>\n",
       "      <td>-2</td>\n",
       "      <td>-2</td>\n",
       "      <td>-2</td>\n",
       "      <td>-2</td>\n",
       "      <td>1</td>\n",
       "      <td>-2</td>\n",
       "      <td>-2</td>\n",
       "      <td>-2</td>\n",
       "      <td>...</td>\n",
       "      <td>-2</td>\n",
       "      <td>-2</td>\n",
       "      <td>-2</td>\n",
       "      <td>-2</td>\n",
       "      <td>-2</td>\n",
       "      <td>-2</td>\n",
       "      <td>1</td>\n",
       "      <td>-2</td>\n",
       "      <td>1</td>\n",
       "      <td>-2</td>\n",
       "    </tr>\n",
       "    <tr>\n",
       "      <th>1</th>\n",
       "      <td>1</td>\n",
       "      <td>\"第三次参加大众点评网霸王餐的活动。这家店给人整体感觉一般。首先环境只能算中等，其次霸王餐提...</td>\n",
       "      <td>-2</td>\n",
       "      <td>-2</td>\n",
       "      <td>-2</td>\n",
       "      <td>-2</td>\n",
       "      <td>-2</td>\n",
       "      <td>-2</td>\n",
       "      <td>-2</td>\n",
       "      <td>0</td>\n",
       "      <td>...</td>\n",
       "      <td>0</td>\n",
       "      <td>0</td>\n",
       "      <td>0</td>\n",
       "      <td>0</td>\n",
       "      <td>1</td>\n",
       "      <td>-2</td>\n",
       "      <td>-2</td>\n",
       "      <td>-2</td>\n",
       "      <td>1</td>\n",
       "      <td>-2</td>\n",
       "    </tr>\n",
       "  </tbody>\n",
       "</table>\n",
       "<p>2 rows × 22 columns</p>\n",
       "</div>"
      ],
      "text/plain": [
       "   id                                            content  \\\n",
       "0   0  \"吼吼吼，萌死人的棒棒糖，中了大众点评的霸王餐，太可爱了。一直就好奇这个棒棒糖是怎么个东西，...   \n",
       "1   1  \"第三次参加大众点评网霸王餐的活动。这家店给人整体感觉一般。首先环境只能算中等，其次霸王餐提...   \n",
       "\n",
       "   location_traffic_convenience  location_distance_from_business_district  \\\n",
       "0                            -2                                        -2   \n",
       "1                            -2                                        -2   \n",
       "\n",
       "   location_easy_to_find  service_wait_time  service_waiters_attitude  \\\n",
       "0                     -2                 -2                         1   \n",
       "1                     -2                 -2                        -2   \n",
       "\n",
       "   service_parking_convenience  service_serving_speed  price_level  \\\n",
       "0                           -2                     -2           -2   \n",
       "1                           -2                     -2            0   \n",
       "\n",
       "                ...                 environment_decoration  environment_noise  \\\n",
       "0               ...                                     -2                 -2   \n",
       "1               ...                                      0                  0   \n",
       "\n",
       "   environment_space  environment_cleaness  dish_portion  dish_taste  \\\n",
       "0                 -2                    -2            -2          -2   \n",
       "1                  0                     0             1          -2   \n",
       "\n",
       "   dish_look  dish_recommendation  others_overall_experience  \\\n",
       "0          1                   -2                          1   \n",
       "1         -2                   -2                          1   \n",
       "\n",
       "   others_willing_to_consume_again  \n",
       "0                               -2  \n",
       "1                               -2  \n",
       "\n",
       "[2 rows x 22 columns]"
      ]
     },
     "execution_count": 4,
     "metadata": {},
     "output_type": "execute_result"
    }
   ],
   "source": [
    "df_train.head(2)"
   ]
  },
  {
   "cell_type": "code",
   "execution_count": 6,
   "metadata": {},
   "outputs": [
    {
     "data": {
      "text/plain": [
       "(105000, 22)"
      ]
     },
     "execution_count": 6,
     "metadata": {},
     "output_type": "execute_result"
    }
   ],
   "source": [
    "df_train.shape"
   ]
  },
  {
   "cell_type": "code",
   "execution_count": 7,
   "metadata": {},
   "outputs": [
    {
     "name": "stdout",
     "output_type": "stream",
     "text": [
      "\"和小伙伴一起约的日料放题 一开始也没有想好去哪里 点评里搜索日料 第一家跳出的就是它 看着点评还不错 就一起去拔草了 先说说地理位置吧 自家开车的话还比较方便 如果是地铁之类的交通工具的话 太不方便了啦 下来要走好长段路 而且在条小路里面 比较隐蔽 比较难找 不过吃的人还很多呢 应该是他家东西好 再来具体说说菜品吧 他家有刺身 烤物 还有铁板 可以自己烤 前面几轮肯定是刺身啦 提前告知了说海胆没有 说是季节不好 有点小失望呢 送了个叫啥梅子酒红毛蟹 感觉一般般 太甜了 傲虾 金枪鱼鱼腹 小青龙都是限量的 三文鱼鱼腩 北极贝（超大的）牡丹虾（畅食）甜虾 扇贝 田螺？都很新鲜 肉质都很甜 质量很不错 叫了好几轮 后面点了些烤物 银鳕鱼（超好吃的） 鳗鱼 蟹宝都蛮赞的 关键他还不限时 聊聊天 可以吃超久的 后来还点了些牛舌 牛仔骨之类的 自己烤 还送了个限量的雪花牛肉 很嫩 油脂很丰富 相对于这个价格来讲 觉得性价比是蛮高的 希望店家以后继续保持这种质量 还希望下次来的时候可以吃到海胆\"\n"
     ]
    }
   ],
   "source": [
    "print(df_train[df_train['location_traffic_convenience'] == -1].iloc[1,1])"
   ]
  },
  {
   "cell_type": "markdown",
   "metadata": {},
   "source": [
    "## 查看每个类别占比，数据平衡性问题"
   ]
  },
  {
   "cell_type": "code",
   "execution_count": 8,
   "metadata": {},
   "outputs": [
    {
     "name": "stdout",
     "output_type": "stream",
     "text": [
      ">>> class distribution in total data:\n",
      "class  1: 24.45%\n",
      "class  0:  8.64%\n",
      "class -1:  4.30%\n",
      "class -2: 62.62%\n",
      "\n",
      "============================================================\n",
      "\n",
      ">>> class distribution in each type:\n",
      "type1: location_traffic_convenience\n",
      "class  1: 20.24%\n",
      "class  0:  1.00%\n",
      "class -1:  1.26%\n",
      "class -2: 77.51%\n",
      "\n",
      "type2: location_distance_from_business_district\n",
      "class  1: 19.24%\n",
      "class  0:  0.51%\n",
      "class -1:  0.56%\n",
      "class -2: 79.70%\n",
      "\n",
      "type3: location_easy_to_find\n",
      "class  1: 17.09%\n",
      "class  0:  2.35%\n",
      "class -1:  3.79%\n",
      "class -2: 76.77%\n",
      "\n",
      "type4: service_wait_time\n",
      "class  1:  4.59%\n",
      "class  0:  4.17%\n",
      "class -1:  2.89%\n",
      "class -2: 88.35%\n",
      "\n",
      "type5: service_waiters_attitude\n",
      "class  1: 39.40%\n",
      "class  0: 11.94%\n",
      "class -1:  8.27%\n",
      "class -2: 40.39%\n",
      "\n",
      "type6: service_parking_convenience\n",
      "class  1:  3.76%\n",
      "class  0:  1.39%\n",
      "class -1:  1.26%\n",
      "class -2: 93.60%\n",
      "\n",
      "type7: service_serving_speed\n",
      "class  1:  8.03%\n",
      "class  0:  2.27%\n",
      "class -1:  5.23%\n",
      "class -2: 84.48%\n",
      "\n",
      "type8: price_level\n",
      "class  1: 14.82%\n",
      "class  0: 23.09%\n",
      "class -1: 11.79%\n",
      "class -2: 50.30%\n",
      "\n",
      "type9: price_cost_effective\n",
      "class  1: 17.79%\n",
      "class  0:  2.93%\n",
      "class -1:  2.87%\n",
      "class -2: 76.42%\n",
      "\n",
      "type10: price_discount\n",
      "class  1: 19.80%\n",
      "class  0: 17.39%\n",
      "class -1:  1.63%\n",
      "class -2: 61.18%\n",
      "\n",
      "type11: environment_decoration\n",
      "class  1: 37.57%\n",
      "class  0:  9.04%\n",
      "class -1:  2.04%\n",
      "class -2: 51.35%\n",
      "\n",
      "type12: environment_noise\n",
      "class  1: 22.51%\n",
      "class  0:  4.61%\n",
      "class -1:  2.93%\n",
      "class -2: 69.95%\n",
      "\n",
      "type13: environment_space\n",
      "class  1: 23.46%\n",
      "class  0:  8.82%\n",
      "class -1:  5.43%\n",
      "class -2: 62.28%\n",
      "\n",
      "type14: environment_cleaness\n",
      "class  1: 27.80%\n",
      "class  0:  4.48%\n",
      "class -1:  4.30%\n",
      "class -2: 63.43%\n",
      "\n",
      "type15: dish_portion\n",
      "class  1: 27.20%\n",
      "class  0:  9.05%\n",
      "class -1:  9.54%\n",
      "class -2: 54.21%\n",
      "\n",
      "type16: dish_taste\n",
      "class  1: 52.73%\n",
      "class  0: 38.29%\n",
      "class -1:  4.16%\n",
      "class -2:  4.83%\n",
      "\n",
      "type17: dish_look\n",
      "class  1: 20.16%\n",
      "class  0:  4.45%\n",
      "class -1:  3.03%\n",
      "class -2: 72.36%\n",
      "\n",
      "type18: dish_recommendation\n",
      "class  1: 15.21%\n",
      "class  0:  1.89%\n",
      "class -1:  2.17%\n",
      "class -2: 80.73%\n",
      "\n",
      "type19: others_overall_experience\n",
      "class  1: 66.73%\n",
      "class  0: 22.32%\n",
      "class -1:  8.94%\n",
      "class -2:  2.01%\n",
      "\n",
      "type20: others_willing_to_consume_again\n",
      "class  1: 30.79%\n",
      "class  0:  2.77%\n",
      "class -1:  3.96%\n",
      "class -2: 62.48%\n",
      "\n"
     ]
    }
   ],
   "source": [
    "data_size = len(df_train)\n",
    "colnames = df_train.columns[2:]\n",
    "num_type = len(colnames)\n",
    "\n",
    "sum_0, sum_1, sum_2, sum_3 = 0, 0, 0, 0\n",
    "# 查看所有数据的类别分布\n",
    "for colname in colnames:\n",
    "    sum_0 += np.sum(df_train[colname] == 1)\n",
    "    sum_1 += np.sum(df_train[colname] == 0)\n",
    "    sum_2 += np.sum(df_train[colname] == -1)\n",
    "    sum_3 += np.sum(df_train[colname] == -2)\n",
    "print('>>> class distribution in total data:')\n",
    "print('class  1: {:5.2f}%'.format(sum_0/data_size/num_type*100))\n",
    "print('class  0: {:5.2f}%'.format(sum_1/data_size/num_type*100))\n",
    "print('class -1: {:5.2f}%'.format(sum_2/data_size/num_type*100))\n",
    "print('class -2: {:5.2f}%'.format(sum_3/data_size/num_type*100))\n",
    "print()\n",
    "\n",
    "print('============================================================\\n')\n",
    "\n",
    "# 查看每个细粒度中类别的分布\n",
    "print('>>> class distribution in each type:')\n",
    "for i in range(len(colnames)):\n",
    "    colname = colnames[i]\n",
    "    sum_0 = np.sum(df_train[colname] == 1)\n",
    "    sum_1 = np.sum(df_train[colname] == 0)\n",
    "    sum_2 = np.sum(df_train[colname] == -1)\n",
    "    sum_3 = np.sum(df_train[colname] == -2)\n",
    "    print('type{}: {}'.format(i+1, colname))\n",
    "    print('class  1: {:5.2f}%'.format(sum_0/data_size*100))\n",
    "    print('class  0: {:5.2f}%'.format(sum_1/data_size*100))\n",
    "    print('class -1: {:5.2f}%'.format(sum_2/data_size*100))\n",
    "    print('class -2: {:5.2f}%'.format(sum_3/data_size*100))\n",
    "    print()"
   ]
  },
  {
   "cell_type": "code",
   "execution_count": 5,
   "metadata": {},
   "outputs": [
    {
     "name": "stdout",
     "output_type": "stream",
     "text": [
      "environment_decoration\n",
      " 1 : 39453\n",
      " 0 : 9492\n",
      "-1 : 2139\n",
      "-2 : 53916\n",
      "\"第三次参加大众点评网霸王餐的活动。这家店给人整体感觉一般。首先环境只能算中等，其次霸王餐提供的菜品也不是很多，当然商家为了避免参加霸王餐吃不饱的现象，给每桌都提供了至少六份主食，我们那桌都提供了两份年糕，第一次吃火锅会在桌上有这么多的主食了。整体来说这家火锅店没有什么特别有特色的，不过每份菜品分量还是比较足的，这点要肯定！至于价格，因为没有看菜单不了解，不过我看大众有这家店的团购代金券，相当于7折，应该价位不会很高的！最后还是要感谢商家提供霸王餐，祝生意兴隆，财源广进\"\n"
     ]
    }
   ],
   "source": [
    "# 获取某一个粒度下每个类别的样本\n",
    "colnames = df_train.columns[2:]\n",
    "colname = colnames[10]\n",
    "print(colname)\n",
    "contents_all = list(df_train['content'])\n",
    "contents_1 = list(df_train[df_train[colname] == 1]['content'])\n",
    "contents_0 = list(df_train[df_train[colname] == 0]['content'])\n",
    "contents__1 = list(df_train[df_train[colname] == -1]['content'])\n",
    "contents__2 = list(df_train[df_train[colname] == -2]['content'])\n",
    "print(' 1 : {}'.format(len(contents_1)))\n",
    "print(' 0 : {}'.format(len(contents_0)))\n",
    "print('-1 : {}'.format(len(contents__1)))\n",
    "print('-2 : {}'.format(len(contents__2)))\n",
    "print(contents_0[0])"
   ]
  },
  {
   "cell_type": "markdown",
   "metadata": {},
   "source": [
    "### 句子长度分析"
   ]
  },
  {
   "cell_type": "code",
   "execution_count": 6,
   "metadata": {},
   "outputs": [
    {
     "data": {
      "text/plain": [
       "2004"
      ]
     },
     "execution_count": 6,
     "metadata": {},
     "output_type": "execute_result"
    }
   ],
   "source": [
    "np.max([len(contents_all[i]) for i in range(len(contents_all))])"
   ]
  },
  {
   "cell_type": "code",
   "execution_count": 7,
   "metadata": {},
   "outputs": [
    {
     "data": {
      "image/png": "[encoded data removed]",
      "text/plain": [
       "<Figure size 720x432 with 4 Axes>"
      ]
     },
     "metadata": {},
     "output_type": "display_data"
    }
   ],
   "source": [
    "plt.figure(figsize=(10,6))\n",
    "contents_list = [contents_1, contents_0, contents__1, contents__2]\n",
    "for i in range(len(contents_list)):\n",
    "    contents = contents_list[i]\n",
    "    lens = [len(contents[j]) for j in range(len(contents))]\n",
    "    plt.subplot(2, 2, i+1)\n",
    "    plt.hist(lens, bins=100)\n",
    "plt.show()"
   ]
  },
  {
   "cell_type": "code",
   "execution_count": 12,
   "metadata": {},
   "outputs": [
    {
     "name": "stdout",
     "output_type": "stream",
     "text": [
      "mean:\n",
      "380.32245963551566\n",
      "370.27022756005056\n",
      "354.63534361851333\n",
      "321.6099859039988\n",
      "\n",
      "min:\n",
      "194\n",
      "190\n",
      "202\n",
      "144\n",
      "\n",
      "max:\n",
      "2002\n",
      "2002\n",
      "1984\n",
      "2004\n",
      "\n",
      "std:\n",
      "219.6587194938255\n",
      "201.5602467412763\n",
      "179.73635771128903\n",
      "151.56104232568893\n"
     ]
    }
   ],
   "source": [
    "lens_1 = [len(s) for s in contents_1]\n",
    "lens_0 = [len(s) for s in contents_0]\n",
    "lens__1 = [len(s) for s in contents__1]\n",
    "lens__2 = [len(s) for s in contents__2]\n",
    "print('mean:')\n",
    "print(np.mean(lens_1))\n",
    "print(np.mean(lens_0))\n",
    "print(np.mean(lens__1))\n",
    "print(np.mean(lens__2))\n",
    "print('\\nmin:')\n",
    "print(np.min(lens_1))\n",
    "print(np.min(lens_0))\n",
    "print(np.min(lens__1))\n",
    "print(np.min(lens__2))\n",
    "print('\\nmax:')\n",
    "print(np.max(lens_1))\n",
    "print(np.max(lens_0))\n",
    "print(np.max(lens__1))\n",
    "print(np.max(lens__2))\n",
    "print('\\nstd:')\n",
    "print(np.std(lens_1))\n",
    "print(np.std(lens_0))\n",
    "print(np.std(lens__1))\n",
    "print(np.std(lens__2))"
   ]
  },
  {
   "cell_type": "markdown",
   "metadata": {},
   "source": [
    "### 类别之间的关系分析"
   ]
  },
  {
   "cell_type": "code",
   "execution_count": 13,
   "metadata": {},
   "outputs": [
    {
     "data": {
      "text/html": [
       "<div>\n",
       "<style scoped>\n",
       "    .dataframe tbody tr th:only-of-type {\n",
       "        vertical-align: middle;\n",
       "    }\n",
       "\n",
       "    .dataframe tbody tr th {\n",
       "        vertical-align: top;\n",
       "    }\n",
       "\n",
       "    .dataframe thead th {\n",
       "        text-align: right;\n",
       "    }\n",
       "</style>\n",
       "<table border=\"1\" class=\"dataframe\">\n",
       "  <thead>\n",
       "    <tr style=\"text-align: right;\">\n",
       "      <th></th>\n",
       "      <th>location_traffic_convenience</th>\n",
       "      <th>location_distance_from_business_district</th>\n",
       "      <th>location_easy_to_find</th>\n",
       "      <th>service_wait_time</th>\n",
       "      <th>service_waiters_attitude</th>\n",
       "      <th>service_parking_convenience</th>\n",
       "      <th>service_serving_speed</th>\n",
       "      <th>price_level</th>\n",
       "      <th>price_cost_effective</th>\n",
       "      <th>price_discount</th>\n",
       "      <th>environment_decoration</th>\n",
       "      <th>environment_noise</th>\n",
       "      <th>environment_space</th>\n",
       "      <th>environment_cleaness</th>\n",
       "      <th>dish_portion</th>\n",
       "      <th>dish_taste</th>\n",
       "      <th>dish_look</th>\n",
       "      <th>dish_recommendation</th>\n",
       "      <th>others_overall_experience</th>\n",
       "      <th>others_willing_to_consume_again</th>\n",
       "    </tr>\n",
       "  </thead>\n",
       "  <tbody>\n",
       "    <tr>\n",
       "      <th>0</th>\n",
       "      <td>-2</td>\n",
       "      <td>-2</td>\n",
       "      <td>-2</td>\n",
       "      <td>-2</td>\n",
       "      <td>1</td>\n",
       "      <td>-2</td>\n",
       "      <td>-2</td>\n",
       "      <td>-2</td>\n",
       "      <td>-2</td>\n",
       "      <td>1</td>\n",
       "      <td>-2</td>\n",
       "      <td>-2</td>\n",
       "      <td>-2</td>\n",
       "      <td>-2</td>\n",
       "      <td>-2</td>\n",
       "      <td>-2</td>\n",
       "      <td>1</td>\n",
       "      <td>-2</td>\n",
       "      <td>1</td>\n",
       "      <td>-2</td>\n",
       "    </tr>\n",
       "    <tr>\n",
       "      <th>1</th>\n",
       "      <td>-2</td>\n",
       "      <td>-2</td>\n",
       "      <td>-2</td>\n",
       "      <td>-2</td>\n",
       "      <td>-2</td>\n",
       "      <td>-2</td>\n",
       "      <td>-2</td>\n",
       "      <td>0</td>\n",
       "      <td>-2</td>\n",
       "      <td>1</td>\n",
       "      <td>0</td>\n",
       "      <td>0</td>\n",
       "      <td>0</td>\n",
       "      <td>0</td>\n",
       "      <td>1</td>\n",
       "      <td>-2</td>\n",
       "      <td>-2</td>\n",
       "      <td>-2</td>\n",
       "      <td>1</td>\n",
       "      <td>-2</td>\n",
       "    </tr>\n",
       "    <tr>\n",
       "      <th>2</th>\n",
       "      <td>-2</td>\n",
       "      <td>-2</td>\n",
       "      <td>-2</td>\n",
       "      <td>-2</td>\n",
       "      <td>0</td>\n",
       "      <td>-2</td>\n",
       "      <td>1</td>\n",
       "      <td>0</td>\n",
       "      <td>-2</td>\n",
       "      <td>1</td>\n",
       "      <td>-2</td>\n",
       "      <td>-2</td>\n",
       "      <td>1</td>\n",
       "      <td>-2</td>\n",
       "      <td>0</td>\n",
       "      <td>1</td>\n",
       "      <td>-2</td>\n",
       "      <td>-2</td>\n",
       "      <td>0</td>\n",
       "      <td>-2</td>\n",
       "    </tr>\n",
       "    <tr>\n",
       "      <th>3</th>\n",
       "      <td>-2</td>\n",
       "      <td>-2</td>\n",
       "      <td>-2</td>\n",
       "      <td>-2</td>\n",
       "      <td>-2</td>\n",
       "      <td>-2</td>\n",
       "      <td>-2</td>\n",
       "      <td>0</td>\n",
       "      <td>-2</td>\n",
       "      <td>-2</td>\n",
       "      <td>-2</td>\n",
       "      <td>-2</td>\n",
       "      <td>-2</td>\n",
       "      <td>-2</td>\n",
       "      <td>-2</td>\n",
       "      <td>-1</td>\n",
       "      <td>-2</td>\n",
       "      <td>-2</td>\n",
       "      <td>-1</td>\n",
       "      <td>-1</td>\n",
       "    </tr>\n",
       "    <tr>\n",
       "      <th>4</th>\n",
       "      <td>-2</td>\n",
       "      <td>-2</td>\n",
       "      <td>-2</td>\n",
       "      <td>-2</td>\n",
       "      <td>-2</td>\n",
       "      <td>-2</td>\n",
       "      <td>-2</td>\n",
       "      <td>-2</td>\n",
       "      <td>-2</td>\n",
       "      <td>-2</td>\n",
       "      <td>-2</td>\n",
       "      <td>-2</td>\n",
       "      <td>-2</td>\n",
       "      <td>-2</td>\n",
       "      <td>-2</td>\n",
       "      <td>1</td>\n",
       "      <td>1</td>\n",
       "      <td>-2</td>\n",
       "      <td>1</td>\n",
       "      <td>-2</td>\n",
       "    </tr>\n",
       "  </tbody>\n",
       "</table>\n",
       "</div>"
      ],
      "text/plain": [
       "   location_traffic_convenience  location_distance_from_business_district  \\\n",
       "0                            -2                                        -2   \n",
       "1                            -2                                        -2   \n",
       "2                            -2                                        -2   \n",
       "3                            -2                                        -2   \n",
       "4                            -2                                        -2   \n",
       "\n",
       "   location_easy_to_find  service_wait_time  service_waiters_attitude  \\\n",
       "0                     -2                 -2                         1   \n",
       "1                     -2                 -2                        -2   \n",
       "2                     -2                 -2                         0   \n",
       "3                     -2                 -2                        -2   \n",
       "4                     -2                 -2                        -2   \n",
       "\n",
       "   service_parking_convenience  service_serving_speed  price_level  \\\n",
       "0                           -2                     -2           -2   \n",
       "1                           -2                     -2            0   \n",
       "2                           -2                      1            0   \n",
       "3                           -2                     -2            0   \n",
       "4                           -2                     -2           -2   \n",
       "\n",
       "   price_cost_effective  price_discount  environment_decoration  \\\n",
       "0                    -2               1                      -2   \n",
       "1                    -2               1                       0   \n",
       "2                    -2               1                      -2   \n",
       "3                    -2              -2                      -2   \n",
       "4                    -2              -2                      -2   \n",
       "\n",
       "   environment_noise  environment_space  environment_cleaness  dish_portion  \\\n",
       "0                 -2                 -2                    -2            -2   \n",
       "1                  0                  0                     0             1   \n",
       "2                 -2                  1                    -2             0   \n",
       "3                 -2                 -2                    -2            -2   \n",
       "4                 -2                 -2                    -2            -2   \n",
       "\n",
       "   dish_taste  dish_look  dish_recommendation  others_overall_experience  \\\n",
       "0          -2          1                   -2                          1   \n",
       "1          -2         -2                   -2                          1   \n",
       "2           1         -2                   -2                          0   \n",
       "3          -1         -2                   -2                         -1   \n",
       "4           1          1                   -2                          1   \n",
       "\n",
       "   others_willing_to_consume_again  \n",
       "0                               -2  \n",
       "1                               -2  \n",
       "2                               -2  \n",
       "3                               -1  \n",
       "4                               -2  "
      ]
     },
     "execution_count": 13,
     "metadata": {},
     "output_type": "execute_result"
    }
   ],
   "source": [
    "col_classes = df_train.columns[2:]\n",
    "df_classes = df_train[col_classes]\n",
    "df_classes.head()"
   ]
  },
  {
   "cell_type": "code",
   "execution_count": 18,
   "metadata": {},
   "outputs": [
    {
     "name": "stdout",
     "output_type": "stream",
     "text": [
      "(105000, 19)\n",
      "(105000,)\n"
     ]
    }
   ],
   "source": [
    "y = np.array(df_classes['others_overall_experience'])\n",
    "x = np.array(df_classes[col_classes.drop('others_overall_experience')])\n",
    "print(x.shape)\n",
    "print(y.shape)"
   ]
  },
  {
   "cell_type": "code",
   "execution_count": 29,
   "metadata": {},
   "outputs": [],
   "source": [
    "mat = np.array(df_classes)"
   ]
  },
  {
   "cell_type": "code",
   "execution_count": 44,
   "metadata": {},
   "outputs": [
    {
     "data": {
      "image/png": "[encoded data removed]",
      "text/plain": [
       "<Figure size 432x288 with 1 Axes>"
      ]
     },
     "metadata": {},
     "output_type": "display_data"
    }
   ],
   "source": []
  },
  {
   "cell_type": "markdown",
   "metadata": {},
   "source": [
    "## 转换原始数据为全类别模式"
   ]
  },
  {
   "cell_type": "code",
   "execution_count": null,
   "metadata": {},
   "outputs": [],
   "source": [
    "col_names = df.columns[2:]\n",
    "df_new = df[df.columns[:2]]\n",
    "for col_name in col_names:\n",
    "    df_one_new = pd.get_dummies(df[col_name], prefix=col_name)\n",
    "    cols = df_one_new.columns\n",
    "    cols = cols[::-1]\n",
    "    df_one_new = df_one_new[cols]\n",
    "    df_new = pd.concat([df_new, df_one_new], axis=1)"
   ]
  },
  {
   "cell_type": "code",
   "execution_count": null,
   "metadata": {},
   "outputs": [],
   "source": [
    "df_new"
   ]
  },
  {
   "cell_type": "code",
   "execution_count": null,
   "metadata": {},
   "outputs": [],
   "source": [
    "df_new.shape"
   ]
  },
  {
   "cell_type": "code",
   "execution_count": null,
   "metadata": {},
   "outputs": [],
   "source": [
    "# write out train dataset\n",
    "df_new.to_csv(path_or_buf='./data/df_train.csv', header=True, index=False)"
   ]
  },
  {
   "cell_type": "code",
   "execution_count": null,
   "metadata": {},
   "outputs": [],
   "source": [
    "# write out valid dataset\n",
    "df_new.to_csv(path_or_buf='./data/df_valid.csv', header=True, index=False)"
   ]
  },
  {
   "cell_type": "code",
   "execution_count": null,
   "metadata": {},
   "outputs": [],
   "source": [
    "# write out testa dataset\n",
    "df_new.to_csv(path_or_buf='./data/df_testa.csv', header=True, index=False)"
   ]
  },
  {
   "cell_type": "code",
   "execution_count": null,
   "metadata": {},
   "outputs": [],
   "source": [
    "df_new['content'].iloc[0]"
   ]
  },
  {
   "cell_type": "code",
   "execution_count": null,
   "metadata": {},
   "outputs": [],
   "source": [
    "df_new[df_new.columns[2:]].shape"
   ]
  },
  {
   "cell_type": "code",
   "execution_count": null,
   "metadata": {},
   "outputs": [],
   "source": [
    "df_new[:2]"
   ]
  },
  {
   "cell_type": "code",
   "execution_count": null,
   "metadata": {},
   "outputs": [],
   "source": [
    "df_testa_pred = pd.read_csv('./data/df_testa_pred.csv')"
   ]
  },
  {
   "cell_type": "code",
   "execution_count": null,
   "metadata": {},
   "outputs": [],
   "source": [
    "df_testa_pred"
   ]
  },
  {
   "cell_type": "code",
   "execution_count": null,
   "metadata": {},
   "outputs": [],
   "source": [
    "df_testa_pred.shape"
   ]
  },
  {
   "cell_type": "code",
   "execution_count": null,
   "metadata": {
    "scrolled": true
   },
   "outputs": [],
   "source": [
    "df_testa_pred[df_testa_pred.columns[2:]][0:3]"
   ]
  },
  {
   "cell_type": "markdown",
   "metadata": {},
   "source": [
    "## 查看valid set推测结果"
   ]
  },
  {
   "cell_type": "code",
   "execution_count": null,
   "metadata": {},
   "outputs": [],
   "source": [
    "df_valid = pd.read_csv('./data/df_valid.csv')\n",
    "df_valid_pred = pd.read_csv('./data/df_valid_pred.csv')"
   ]
  },
  {
   "cell_type": "code",
   "execution_count": null,
   "metadata": {},
   "outputs": [],
   "source": [
    "idx = 2"
   ]
  },
  {
   "cell_type": "code",
   "execution_count": null,
   "metadata": {
    "scrolled": true
   },
   "outputs": [],
   "source": [
    "print(df_valid['content'].iloc[idx])"
   ]
  },
  {
   "cell_type": "code",
   "execution_count": null,
   "metadata": {},
   "outputs": [],
   "source": [
    "pd.concat([df_valid.iloc[idx, 2:], df_valid_pred.iloc[idx, 2:]], axis=1)"
   ]
  },
  {
   "cell_type": "code",
   "execution_count": null,
   "metadata": {},
   "outputs": [],
   "source": [
    "# 查看真值和推测值每个粒度下类别unique值\n",
    "for i in range(20):\n",
    "    print('{:2}: true: {}, pred: {}'.format(i+1, df_valid.iloc[:, i+2].unique(), df_valid_pred.iloc[:, i+2].unique()))"
   ]
  },
  {
   "cell_type": "code",
   "execution_count": null,
   "metadata": {},
   "outputs": [],
   "source": [
    "np.sum(df_valid.iloc[:, 2] == 0)"
   ]
  },
  {
   "cell_type": "code",
   "execution_count": null,
   "metadata": {
    "scrolled": false
   },
   "outputs": [],
   "source": [
    "np.sum(df_valid_pred.iloc[:, 2] == 0)"
   ]
  },
  {
   "cell_type": "markdown",
   "metadata": {},
   "source": [
    "## check df_testa_pred"
   ]
  },
  {
   "cell_type": "code",
   "execution_count": null,
   "metadata": {},
   "outputs": [],
   "source": [
    "df_testa_pred = pd.read_csv('./data/df_testa_pred.csv')"
   ]
  },
  {
   "cell_type": "code",
   "execution_count": null,
   "metadata": {},
   "outputs": [],
   "source": [
    "df_testa_pred.shape"
   ]
  },
  {
   "cell_type": "code",
   "execution_count": null,
   "metadata": {},
   "outputs": [],
   "source": [
    "for i in range(20):\n",
    "    print('{:2}: pred: {}'.format(i+1, df_testa_pred.iloc[:, i+2].unique()))"
   ]
  },
  {
   "cell_type": "code",
   "execution_count": null,
   "metadata": {},
   "outputs": [],
   "source": [
    "idx = 101"
   ]
  },
  {
   "cell_type": "code",
   "execution_count": null,
   "metadata": {},
   "outputs": [],
   "source": [
    "print(df_testa_pred['content'].iloc[idx])"
   ]
  },
  {
   "cell_type": "code",
   "execution_count": null,
   "metadata": {},
   "outputs": [],
   "source": [
    "pd.DataFrame(df_testa_pred.iloc[idx, 2:])"
   ]
  }
 ],
 "metadata": {
  "kernelspec": {
   "display_name": "Python 3",
   "language": "python",
   "name": "python3"
  },
  "language_info": {
   "codemirror_mode": {
    "name": "ipython",
    "version": 3
   },
   "file_extension": ".py",
   "mimetype": "text/x-python",
   "name": "python",
   "nbconvert_exporter": "python",
   "pygments_lexer": "ipython3",
   "version": "3.6.5"
  }
 },
 "nbformat": 4,
 "nbformat_minor": 2
}
